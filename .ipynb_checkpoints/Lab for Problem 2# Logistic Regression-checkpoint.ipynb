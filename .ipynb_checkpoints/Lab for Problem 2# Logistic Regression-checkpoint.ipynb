{
 "cells": [
  {
   "cell_type": "markdown",
   "metadata": {},
   "source": [
    "## Lets generate some data to work with"
   ]
  },
  {
   "cell_type": "code",
   "execution_count": 29,
   "metadata": {
    "collapsed": true
   },
   "outputs": [],
   "source": [
    "import random\n",
    "w = 3\n",
    "b = 2\n",
    "Y = []\n",
    "X = []\n",
    "\n",
    "for i in range(20):\n",
    "    r = random.randint(1,20)\n",
    "    X.append(r)\n",
    "    Y.append(w*r+b)"
   ]
  },
  {
   "cell_type": "code",
   "execution_count": 37,
   "metadata": {},
   "outputs": [
    {
     "data": {
      "image/png": "[encoded data removed]",
      "text/plain": [
       "<matplotlib.figure.Figure at 0x1c9e75ad0b8>"
      ]
     },
     "metadata": {},
     "output_type": "display_data"
    }
   ],
   "source": [
    "import matplotlib.pyplot as plt\n",
    "plt.scatter(X,Y,color=\"blue\")\n",
    "plt.show()"
   ]
  },
  {
   "cell_type": "code",
   "execution_count": 38,
   "metadata": {},
   "outputs": [
    {
     "name": "stdout",
     "output_type": "stream",
     "text": [
      "[19, 20, 3, 8, 7, 10, 2, 12, 19, 20, 10, 9, 6, 14, 17, 15, 3, 7, 4, 13]\n"
     ]
    }
   ],
   "source": [
    "print(X)"
   ]
  },
  {
   "cell_type": "code",
   "execution_count": 39,
   "metadata": {},
   "outputs": [
    {
     "name": "stdout",
     "output_type": "stream",
     "text": [
      "[59, 62, 11, 26, 23, 32, 8, 38, 59, 62, 32, 29, 20, 44, 53, 47, 11, 23, 14, 41]\n"
     ]
    }
   ],
   "source": [
    "print(Y)"
   ]
  },
  {
   "cell_type": "code",
   "execution_count": 52,
   "metadata": {},
   "outputs": [
    {
     "name": "stdout",
     "output_type": "stream",
     "text": [
      "----------------------------------\n",
      "J = 0.010631736971469416\n",
      "w =  2.9736500597794344\n",
      "b =  2.4446232265707457\n",
      "----------------------------------\n",
      "J = 2.3998924333715593e-07\n",
      "w =  2.999872874913498\n",
      "b =  2.0021375894823934\n",
      "----------------------------------\n",
      "J = 5.548788935394511e-12\n",
      "w =  2.99999938872804\n",
      "b =  2.000010278447392\n",
      "----------------------------------\n",
      "J = 1.282936150954148e-16\n",
      "w =  2.9999999970607423\n",
      "b =  2.0000000494231873\n",
      "----------------------------------\n",
      "J = 2.965711112607163e-21\n",
      "w =  2.9999999999858664\n",
      "b =  2.0000000002376463\n",
      "----------------------------------\n",
      "J = 6.565847086335525e-26\n",
      "w =  2.9999999999999316\n",
      "b =  2.0000000000011435\n",
      "----------------------------------\n",
      "J = 2.524354896707238e-29\n",
      "w =  2.9999999999999982\n",
      "b =  2.0000000000000266\n",
      "----------------------------------\n",
      "J = 2.524354896707238e-29\n",
      "w =  2.9999999999999982\n",
      "b =  2.0000000000000266\n",
      "----------------------------------\n",
      "J = 2.524354896707238e-29\n",
      "w =  2.9999999999999982\n",
      "b =  2.0000000000000266\n",
      "----------------------------------\n",
      "J = 2.524354896707238e-29\n",
      "w =  2.9999999999999982\n",
      "b =  2.0000000000000266\n"
     ]
    }
   ],
   "source": [
    "w = 0\n",
    "b = 0\n",
    "r = 0.01\n",
    "J = 0\n",
    "\n",
    "for i in range(2000):\n",
    "    for x,y in zip(X,Y):\n",
    "        # Forward Prop\n",
    "        a = w*x + b\n",
    "        J = 0.5*(a-y)**2\n",
    "        \n",
    "        # Back Prop\n",
    "        dw = (a-y)*x\n",
    "        db = (a-y)\n",
    "        \n",
    "        # SGD\n",
    "        w = w - r*dw\n",
    "        b = b - r*db\n",
    "        \n",
    "    if i%200 == 0:  \n",
    "        print(\"----------------------------------\")\n",
    "        print(\"J =\",J)\n",
    "        print(\"w = \",w)\n",
    "        print(\"b = \",b)"
   ]
  },
  {
   "cell_type": "markdown",
   "metadata": {},
   "source": [
    "# Loss Visualization"
   ]
  },
  {
   "cell_type": "code",
   "execution_count": 53,
   "metadata": {},
   "outputs": [
    {
     "data": {
      "image/png": "[encoded data removed]",
      "text/plain": [
       "<matplotlib.figure.Figure at 0x1c9e734a240>"
      ]
     },
     "metadata": {},
     "output_type": "display_data"
    }
   ],
   "source": [
    "import matplotlib.pyplot as plt\n",
    "plt.plot(L)\n",
    "plt.show()"
   ]
  },
  {
   "cell_type": "markdown",
   "metadata": {},
   "source": [
    "# Prediction Visualization"
   ]
  },
  {
   "cell_type": "code",
   "execution_count": 43,
   "metadata": {},
   "outputs": [
    {
     "data": {
      "image/png": "[encoded data removed]",
      "text/plain": [
       "<matplotlib.figure.Figure at 0x1c9e7471b70>"
      ]
     },
     "metadata": {},
     "output_type": "display_data"
    }
   ],
   "source": [
    "import matplotlib.pyplot as plt\n",
    "plt.scatter(X,Y,color='blue',)\n",
    "plt.plot(X,[w*x+b for x in X],color='red')\n",
    "plt.show()"
   ]
  },
  {
   "cell_type": "code",
   "execution_count": null,
   "metadata": {
    "collapsed": true
   },
   "outputs": [],
   "source": []
  }
 ],
 "metadata": {
  "kernelspec": {
   "display_name": "Python 3",
   "language": "python",
   "name": "python3"
  },
  "language_info": {
   "codemirror_mode": {
    "name": "ipython",
    "version": 3
   },
   "file_extension": ".py",
   "mimetype": "text/x-python",
   "name": "python",
   "nbconvert_exporter": "python",
   "pygments_lexer": "ipython3",
   "version": "3.6.0"
  }
 },
 "nbformat": 4,
 "nbformat_minor": 2
}
