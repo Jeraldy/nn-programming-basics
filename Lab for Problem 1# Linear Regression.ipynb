{
 "cells": [
  {
   "cell_type": "markdown",
   "metadata": {},
   "source": [
    "# Basics of Neural Network Programming"
   ]
  },
  {
   "cell_type": "markdown",
   "metadata": {},
   "source": [
    "In this notebook you will implement a basic 1 layer neural network with 1 neuron."
   ]
  },
  {
   "cell_type": "markdown",
   "metadata": {},
   "source": [
    "## Learning objects\n",
    " To get the elementary concepts of \n",
    "1.  Forward prop\n",
    "2.  Back prop\n",
    "3.  Gradient Descen"
   ]
  },
  {
   "cell_type": "markdown",
   "metadata": {},
   "source": [
    "## Lets Generate some random data to work with"
   ]
  },
  {
   "cell_type": "markdown",
   "metadata": {},
   "source": [
    " - Generate data point with slope w = 3 and biase b = 3"
   ]
  },
  {
   "cell_type": "code",
   "execution_count": null,
   "metadata": {
    "collapsed": true
   },
   "outputs": [],
   "source": [
    "import random"
   ]
  },
  {
   "cell_type": "code",
   "execution_count": 54,
   "metadata": {
    "collapsed": true
   },
   "outputs": [],
   "source": [
    "w = 3\n",
    "b = 2\n",
    "Y = []\n",
    "X = []\n",
    "\n",
    "for i in range(20):\n",
    "    r = random.randint(1,20)\n",
    "    X.append(r)\n",
    "    Y.append(w*r+b)"
   ]
  },
  {
   "cell_type": "markdown",
   "metadata": {},
   "source": [
    "## Lets Visualize our data points"
   ]
  },
  {
   "cell_type": "code",
   "execution_count": 55,
   "metadata": {},
   "outputs": [
    {
     "data": {
      "image/png": "[encoded data removed]",
      "text/plain": [
       "<matplotlib.figure.Figure at 0x1c9e70bde48>"
      ]
     },
     "metadata": {},
     "output_type": "display_data"
    }
   ],
   "source": [
    "import matplotlib.pyplot as plt\n",
    "plt.scatter(X,Y,color=\"blue\")\n",
    "plt.show()"
   ]
  },
  {
   "cell_type": "code",
   "execution_count": 56,
   "metadata": {},
   "outputs": [
    {
     "name": "stdout",
     "output_type": "stream",
     "text": [
      "[19, 15, 1, 15, 7, 6, 11, 6, 9, 13, 15, 5, 7, 18, 16, 2, 2, 16, 14, 8]\n"
     ]
    }
   ],
   "source": [
    "print(X)"
   ]
  },
  {
   "cell_type": "code",
   "execution_count": 57,
   "metadata": {},
   "outputs": [
    {
     "name": "stdout",
     "output_type": "stream",
     "text": [
      "[59, 47, 5, 47, 23, 20, 35, 20, 29, 41, 47, 17, 23, 56, 50, 8, 8, 50, 44, 26]\n"
     ]
    }
   ],
   "source": [
    "print(Y)"
   ]
  },
  {
   "cell_type": "markdown",
   "metadata": {},
   "source": [
    "## Now the full implementation"
   ]
  },
  {
   "cell_type": "code",
   "execution_count": 58,
   "metadata": {},
   "outputs": [
    {
     "name": "stdout",
     "output_type": "stream",
     "text": [
      "----------------------------------\n",
      "J = 21.661313661676914\n",
      "w =  3.6047400887784837\n",
      "b =  -0.5342232806354251\n",
      "----------------------------------\n",
      "J = 7.923211404063462e-13\n",
      "w =  3.000000104106695\n",
      "b =  1.9999996077354538\n",
      "----------------------------------\n",
      "J = 1.7727282262126577e-26\n",
      "w =  3.000000000000016\n",
      "b =  1.9999999999999394\n",
      "----------------------------------\n",
      "J = 0.0\n",
      "w =  3.0000000000000004\n",
      "b =  1.999999999999995\n",
      "----------------------------------\n",
      "J = 0.0\n",
      "w =  3.0000000000000004\n",
      "b =  1.999999999999995\n",
      "----------------------------------\n",
      "J = 0.0\n",
      "w =  3.0000000000000004\n",
      "b =  1.999999999999995\n",
      "----------------------------------\n",
      "J = 0.0\n",
      "w =  3.0000000000000004\n",
      "b =  1.999999999999995\n",
      "----------------------------------\n",
      "J = 0.0\n",
      "w =  3.0000000000000004\n",
      "b =  1.999999999999995\n",
      "----------------------------------\n",
      "J = 0.0\n",
      "w =  3.0000000000000004\n",
      "b =  1.999999999999995\n",
      "----------------------------------\n",
      "J = 0.0\n",
      "w =  3.0000000000000004\n",
      "b =  1.999999999999995\n"
     ]
    }
   ],
   "source": [
    "w = 0            # slope/ weight\n",
    "b = 0            # y-intercept/ biase\n",
    "r = 0.01         # learning rate\n",
    "J = 0            # Loss\n",
    "L = []           # Losses\n",
    "for i in range(2000):\n",
    "    for x,y in zip(X,Y):\n",
    "        # Forward Prop\n",
    "        a = w*x + b\n",
    "        J = 0.5*(a-y)**2\n",
    "        \n",
    "        # Back Prop\n",
    "        dw = (a-y)*x\n",
    "        db = (a-y)\n",
    "        \n",
    "        # Stochastic Gradient Descent\n",
    "        w = w - r*dw\n",
    "        b = b - r*db\n",
    "        \n",
    "    if i%200 == 0:  \n",
    "        L.append(J)\n",
    "        print(\"----------------------------------\")\n",
    "        print(\"J =\",J)\n",
    "        print(\"w = \",w)\n",
    "        print(\"b = \",b)"
   ]
  },
  {
   "cell_type": "markdown",
   "metadata": {},
   "source": [
    "# Loss Visualization"
   ]
  },
  {
   "cell_type": "code",
   "execution_count": 59,
   "metadata": {},
   "outputs": [
    {
     "data": {
      "image/png": "[encoded data removed]",
      "text/plain": [
       "<matplotlib.figure.Figure at 0x1c9e70db2e8>"
      ]
     },
     "metadata": {},
     "output_type": "display_data"
    }
   ],
   "source": [
    "import matplotlib.pyplot as plt\n",
    "plt.plot(L)\n",
    "plt.show()"
   ]
  },
  {
   "cell_type": "markdown",
   "metadata": {},
   "source": [
    "# Prediction Visualization"
   ]
  },
  {
   "cell_type": "code",
   "execution_count": 60,
   "metadata": {},
   "outputs": [
    {
     "data": {
      "image/png": "[encoded data removed]",
      "text/plain": [
       "<matplotlib.figure.Figure at 0x1c9e70e8438>"
      ]
     },
     "metadata": {},
     "output_type": "display_data"
    }
   ],
   "source": [
    "import matplotlib.pyplot as plt\n",
    "plt.scatter(X,Y,color='blue',)\n",
    "plt.plot(X,[w*x+b for x in X],color='red')\n",
    "plt.show()"
   ]
  },
  {
   "cell_type": "code",
   "execution_count": null,
   "metadata": {
    "collapsed": true
   },
   "outputs": [],
   "source": []
  }
 ],
 "metadata": {
  "kernelspec": {
   "display_name": "Python 3",
   "language": "python",
   "name": "python3"
  },
  "language_info": {
   "codemirror_mode": {
    "name": "ipython",
    "version": 3
   },
   "file_extension": ".py",
   "mimetype": "text/x-python",
   "name": "python",
   "nbconvert_exporter": "python",
   "pygments_lexer": "ipython3",
   "version": "3.6.0"
  }
 },
 "nbformat": 4,
 "nbformat_minor": 2
}
