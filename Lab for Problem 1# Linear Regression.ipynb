{
  "nbformat": 4,
  "nbformat_minor": 0,
  "metadata": {
    "colab": {
      "name": "lab1.ipynb",
      "version": "0.3.2",
      "provenance": []
    },
    "kernelspec": {
      "name": "python3",
      "display_name": "Python 3"
    }
  },
  "cells": [
    {
      "metadata": {
        "id": "2NaBohBZPavV",
        "colab_type": "text"
      },
      "cell_type": "markdown",
      "source": [
        "# Basics of Neural Network Programming"
      ]
    },
    {
      "metadata": {
        "id": "C9xjoOBQPjRf",
        "colab_type": "text"
      },
      "cell_type": "markdown",
      "source": [
        "In this notebook you will implement a basic 1 layer neural network with 1 neuron."
      ]
    },
    {
      "metadata": {
        "id": "ihz1YBnOPpdj",
        "colab_type": "text"
      },
      "cell_type": "markdown",
      "source": [
        "## Learning objects\n",
        " To get the elementary concepts of \n",
        "1.  Forward prop\n",
        "2.  Back prop\n",
        "3.  Gradient Descen"
      ]
    },
    {
      "metadata": {
        "id": "Lc3RPj13PuPQ",
        "colab_type": "text"
      },
      "cell_type": "markdown",
      "source": [
        "## Lets Generate some random data to work with"
      ]
    },
    {
      "metadata": {
        "id": "igq243IBP0K8",
        "colab_type": "text"
      },
      "cell_type": "markdown",
      "source": [
        "## Lets Generate some random data to work with"
      ]
    },
    {
      "metadata": {
        "id": "ghDP_gsiQGt-",
        "colab_type": "text"
      },
      "cell_type": "markdown",
      "source": [
        " - Generate data point with slope w = 3 and bias b = 3"
      ]
    },
    {
      "metadata": {
        "id": "54n_srd1Pho4",
        "colab_type": "code",
        "colab": {}
      },
      "cell_type": "code",
      "source": [
        "import random"
      ],
      "execution_count": 0,
      "outputs": []
    },
    {
      "metadata": {
        "id": "HCb-AB6UQPVO",
        "colab_type": "code",
        "colab": {}
      },
      "cell_type": "code",
      "source": [
        "w = 3\n",
        "b = 2\n",
        "Y = []\n",
        "X = []\n",
        "\n",
        "for i in range(20):\n",
        "    r = random.randint(1,20)\n",
        "    X.append(r)\n",
        "    Y.append(w*r+b)"
      ],
      "execution_count": 0,
      "outputs": []
    },
    {
      "metadata": {
        "id": "MbTqgwW2QZk3",
        "colab_type": "text"
      },
      "cell_type": "markdown",
      "source": [
        "## Lets Visualize our data points"
      ]
    },
    {
      "metadata": {
        "id": "Ae5439tgQUB1",
        "colab_type": "code",
        "colab": {
          "base_uri": "https://localhost:8080/",
          "height": 347
        },
        "outputId": "5d1b6e8e-9852-47a5-e85c-21c56ee94eb0"
      },
      "cell_type": "code",
      "source": [
        "import matplotlib.pyplot as plt\n",
        "plt.scatter(X,Y,color=\"blue\")\n",
        "plt.show()"
      ],
      "execution_count": 3,
      "outputs": [
        {
          "output_type": "display_data",
          "data": {
            "image/png": "[encoded data removed]",
            "text/plain": [
              "<matplotlib.figure.Figure at 0x7fa8a9522f28>"
            ]
          },
          "metadata": {
            "tags": []
          }
        }
      ]
    },
    {
      "metadata": {
        "id": "rzJJfeuuQguq",
        "colab_type": "code",
        "colab": {
          "base_uri": "https://localhost:8080/",
          "height": 34
        },
        "outputId": "7868b6ce-fa0d-489d-bf07-fab4f0af13e5"
      },
      "cell_type": "code",
      "source": [
        "print(X)"
      ],
      "execution_count": 4,
      "outputs": [
        {
          "output_type": "stream",
          "text": [
            "[6, 1, 10, 18, 4, 15, 4, 10, 13, 16, 5, 20, 11, 16, 7, 2, 2, 18, 17, 7]\n"
          ],
          "name": "stdout"
        }
      ]
    },
    {
      "metadata": {
        "id": "cd2CgqYIQobh",
        "colab_type": "code",
        "colab": {
          "base_uri": "https://localhost:8080/",
          "height": 34
        },
        "outputId": "45cfaf61-5187-4f8d-b387-87d9785758eb"
      },
      "cell_type": "code",
      "source": [
        "print(Y)"
      ],
      "execution_count": 5,
      "outputs": [
        {
          "output_type": "stream",
          "text": [
            "[20, 5, 32, 56, 14, 47, 14, 32, 41, 50, 17, 62, 35, 50, 23, 8, 8, 56, 53, 23]\n"
          ],
          "name": "stdout"
        }
      ]
    },
    {
      "metadata": {
        "id": "8VkoQBHlQvcp",
        "colab_type": "text"
      },
      "cell_type": "markdown",
      "source": [
        "## Now the full implementation"
      ]
    },
    {
      "metadata": {
        "id": "SzD7Lb-AQrSc",
        "colab_type": "code",
        "colab": {
          "base_uri": "https://localhost:8080/",
          "height": 697
        },
        "outputId": "20f67436-626e-4877-b60a-ec2d5a863fa9"
      },
      "cell_type": "code",
      "source": [
        "w = 0            # slope/ weight\n",
        "b = 0            # y-intercept/ biase\n",
        "r = 0.01         # learning rate\n",
        "J = 0            # Loss\n",
        "L = []           # Losses\n",
        "for i in range(2000):\n",
        "    for x,y in zip(X,Y):\n",
        "        # Forward Prop\n",
        "        a = w*x + b\n",
        "        J = 0.5*(a-y)**2\n",
        "        \n",
        "        # Back Prop\n",
        "        dw = (a-y)*x\n",
        "        db = (a-y)\n",
        "        \n",
        "        # Stochastic Gradient Descent\n",
        "        w = w - r*dw\n",
        "        b = b - r*db\n",
        "        \n",
        "    if i%200 == 0:  \n",
        "        L.append(J)\n",
        "        print(\"----------------------------------\")\n",
        "        print(\"J =\",J)\n",
        "        print(\"w = \",w)\n",
        "        print(\"b = \",b)"
      ],
      "execution_count": 6,
      "outputs": [
        {
          "output_type": "stream",
          "text": [
            "----------------------------------\n",
            "J = 0.10188228762883976\n",
            "w =  3.245969904632874\n",
            "b =  0.5039121159799865\n",
            "----------------------------------\n",
            "J = 1.6040435641428006e-10\n",
            "w =  3.0000098513277598\n",
            "b =  1.9999399962725626\n",
            "----------------------------------\n",
            "J = 2.5797367897204705e-19\n",
            "w =  3.0000000003950933\n",
            "b =  1.9999999975934966\n",
            "----------------------------------\n",
            "J = 1.5777218104420236e-28\n",
            "w =  3.0000000000000147\n",
            "b =  1.9999999999999039\n",
            "----------------------------------\n",
            "J = 2.524354896707238e-29\n",
            "w =  3.0000000000000013\n",
            "b =  1.9999999999999876\n",
            "----------------------------------\n",
            "J = 2.524354896707238e-29\n",
            "w =  3.0000000000000013\n",
            "b =  1.9999999999999876\n",
            "----------------------------------\n",
            "J = 2.524354896707238e-29\n",
            "w =  3.0000000000000013\n",
            "b =  1.9999999999999876\n",
            "----------------------------------\n",
            "J = 2.524354896707238e-29\n",
            "w =  3.0000000000000013\n",
            "b =  1.9999999999999876\n",
            "----------------------------------\n",
            "J = 2.524354896707238e-29\n",
            "w =  3.0000000000000013\n",
            "b =  1.9999999999999876\n",
            "----------------------------------\n",
            "J = 2.524354896707238e-29\n",
            "w =  3.0000000000000013\n",
            "b =  1.9999999999999876\n"
          ],
          "name": "stdout"
        }
      ]
    },
    {
      "metadata": {
        "id": "gVet75YAQ7jy",
        "colab_type": "text"
      },
      "cell_type": "markdown",
      "source": [
        "# Loss Visualization"
      ]
    },
    {
      "metadata": {
        "id": "T_xdm5e8Q3Zl",
        "colab_type": "code",
        "colab": {
          "base_uri": "https://localhost:8080/",
          "height": 347
        },
        "outputId": "f889484e-635a-405a-8b15-958cff08ae32"
      },
      "cell_type": "code",
      "source": [
        "import matplotlib.pyplot as plt\n",
        "plt.plot(L)\n",
        "plt.show()"
      ],
      "execution_count": 7,
      "outputs": [
        {
          "output_type": "display_data",
          "data": {
            "image/png": "[encoded data removed]",
            "text/plain": [
              "<matplotlib.figure.Figure at 0x7fa8a6c75fd0>"
            ]
          },
          "metadata": {
            "tags": []
          }
        }
      ]
    },
    {
      "metadata": {
        "id": "GnPPhlYkRHcI",
        "colab_type": "text"
      },
      "cell_type": "markdown",
      "source": [
        "# Prediction Visualization"
      ]
    },
    {
      "metadata": {
        "id": "OyL-SjpFRA9t",
        "colab_type": "code",
        "colab": {
          "base_uri": "https://localhost:8080/",
          "height": 347
        },
        "outputId": "8a111745-7b8a-4e71-cdf1-c81997823388"
      },
      "cell_type": "code",
      "source": [
        "import matplotlib.pyplot as plt\n",
        "plt.scatter(X,Y,color='blue',)\n",
        "plt.plot(X,[w*x+b for x in X],color='red')\n",
        "plt.show()"
      ],
      "execution_count": 8,
      "outputs": [
        {
          "output_type": "display_data",
          "data": {
            "image/png": "[encoded data removed]",
            "text/plain": [
              "<matplotlib.figure.Figure at 0x7fa8a6c11438>"
            ]
          },
          "metadata": {
            "tags": []
          }
        }
      ]
    }
  ]
}